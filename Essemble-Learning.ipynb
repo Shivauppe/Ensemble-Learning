{
 "cells": [
  {
   "cell_type": "markdown",
   "id": "8c80fc0c-1891-4b41-a66b-91d6ca88d456",
   "metadata": {},
   "source": [
    "## 1. Can we use Bagging for regression problems?\n",
    "\n",
    "\n",
    "Yes, Bagging can be used for regression problems. A common example is the `BaggingRegressor` in `sklearn.ensemble`, which reduces variance and improves prediction stability by averaging multiple base regressors.\n"
   ]
  },
  {
   "cell_type": "markdown",
   "id": "9ec4ecfd-16b8-4bd6-bfbc-d972729735a8",
   "metadata": {},
   "source": [
    "#### 2. Difference between multiple model training and single model training\n",
    "- **Single Model Training**: One model learns from the entire dataset, prone to overfitting.\n",
    "- **Multiple Model Training**: Several models are trained on different subsets and aggregated to improve generalization.\n"
   ]
  },
  {
   "cell_type": "markdown",
   "id": "b53a662d-14fc-4b79-a0d6-5fc062bb7838",
   "metadata": {},
   "source": [
    "#### 3. Feature Randomness in Random Forest\n",
    "Feature randomness ensures that each tree in the forest does not consider all features, improving diversity. Each split in a tree considers a random subset of features instead of all features.\n",
    "\n",
    "#### 4. What is OOB (Out-of-Bag) Score?\n",
    "OOB score is an internal validation technique in Bagging, where each tree is tested on samples that were not used in its training (out-of-bag samples).\n",
    "\n"
   ]
  },
  {
   "cell_type": "code",
   "execution_count": 1,
   "id": "342c4a28-e716-487f-8c59-0f87d5da74c8",
   "metadata": {},
   "outputs": [
    {
     "name": "stdout",
     "output_type": "stream",
     "text": [
      "OOB Score: 0.9166666666666666\n"
     ]
    }
   ],
   "source": [
    "from sklearn.ensemble import RandomForestClassifier\n",
    "from sklearn.datasets import load_iris\n",
    "from sklearn.model_selection import train_test_split\n",
    "\n",
    "# Load data\n",
    "iris = load_iris()\n",
    "X_train, X_test, y_train, y_test = train_test_split(iris.data, iris.target, test_size=0.2, random_state=42)\n",
    "\n",
    "# Train Random Forest with OOB score\n",
    "rf = RandomForestClassifier(n_estimators=100, oob_score=True, random_state=42)\n",
    "rf.fit(X_train, y_train)\n",
    "print(\"OOB Score:\", rf.oob_score_)"
   ]
  },
  {
   "cell_type": "markdown",
   "id": "c95535ee-28ca-41d2-9700-d723b83b61aa",
   "metadata": {},
   "source": [
    "#### 5. Feature Importance in Random Forest\n",
    "Random Forest ranks features based on their contribution to reducing impurity.\n"
   ]
  },
  {
   "cell_type": "code",
   "execution_count": 2,
   "id": "93338abc-b8b6-4404-a9c3-d163a9d6a73f",
   "metadata": {},
   "outputs": [
    {
     "data": {
      "image/png": "[encoded data removed]",
      "text/plain": [
       "<Figure size 640x480 with 1 Axes>"
      ]
     },
     "metadata": {},
     "output_type": "display_data"
    }
   ],
   "source": [
    "import pandas as pd\n",
    "import numpy as np\n",
    "import matplotlib.pyplot as plt\n",
    "\n",
    "# Get feature importances\n",
    "importances = rf.feature_importances_\n",
    "features = iris.feature_names\n",
    "\n",
    "# Plot\n",
    "plt.barh(features, importances)\n",
    "plt.xlabel(\"Feature Importance\")\n",
    "plt.ylabel(\"Features\")\n",
    "plt.title(\"Feature Importance in Random Forest\")\n",
    "plt.show()\n"
   ]
  },
  {
   "cell_type": "markdown",
   "id": "635199aa-0407-4660-a8ee-4f0ebcf01e09",
   "metadata": {},
   "source": [
    "#### 6. Working Principle of a Bagging Classifier\n",
    "A Bagging Classifier trains multiple models on bootstrapped subsets and aggregates their predictions (majority voting for classification).\n",
    "\n",
    "#### 7. Evaluating a Bagging Classifier’s Performance\n",
    "- Accuracy, Precision, Recall, and F1-score can be used.\n",
    "- Cross-validation can further ensure robustness.\n",
    "\n",
    "#### 8. How does a Bagging Regressor work?\n",
    "It trains multiple regressors and averages their outputs to reduce variance.\n",
    "\n",
    "#### 9. Main Advantage of Ensemble Techniques\n",
    "They reduce overfitting and improve prediction accuracy by combining multiple models.\n",
    "\n",
    "#### 10. Main Challenge of Ensemble Methods\n",
    "- Computationally expensive\n",
    "- Difficult to interpret compared to single models\n",
    "\n",
    "#### 11. Key Idea Behind Ensemble Techniques\n",
    "Combine multiple weak learners to create a strong predictive model.\n",
    "\n",
    "#### 12. What is a Random Forest Classifier?\n",
    "A collection of Decision Trees trained on random subsets with feature randomness.\n",
    "\n",
    "#### 13. Main Types of Ensemble Techniques\n",
    "- Bagging (Bootstrap Aggregating)\n",
    "- Boosting (AdaBoost, Gradient Boosting)\n",
    "- Stacking\n",
    "\n",
    "#### 14. What is Ensemble Learning in Machine Learning?\n",
    "It is a technique where multiple models work together to enhance overall performance.\n",
    "\n",
    "#### 15. When Should We Avoid Using Ensemble Methods?\n",
    "- When interpretability is critical\n",
    "- When computational power is limited\n",
    "\n",
    "#### 16. How Does Bagging Help in Reducing Overfitting?\n",
    "By averaging predictions, it reduces model variance while maintaining low bias.\n",
    "\n",
    "#### 17. Why is Random Forest Better than a Single Decision Tree?\n",
    "- Less prone to overfitting\n",
    "- More stable and generalizable\n",
    "\n",
    "#### 18. Role of Bootstrap Sampling in Bagging\n",
    "It ensures diversity in training data by sampling with replacement.\n",
    "\n",
    "#### 19. Real-World Applications of Ensemble Techniques\n",
    "- Fraud detection\n",
    "- Medical diagnosis\n",
    "- Stock market prediction\n",
    "- Image recognition\n",
    "\n",
    "#### 20. Difference Between Bagging and Boosting\n",
    "- **Bagging**: Reduces variance by training models independently.\n",
    "- **Boosting**: Reduces bias by sequentially improving weak models."
   ]
  },
  {
   "cell_type": "code",
   "execution_count": 3,
   "id": "8df12f99-4ff1-41bd-96df-b198ba53d121",
   "metadata": {},
   "outputs": [],
   "source": [
    "## Practical Questions:"
   ]
  },
  {
   "cell_type": "code",
   "execution_count": 4,
   "id": "6b8929fb-7bef-43a6-8427-0f9623a16c9a",
   "metadata": {},
   "outputs": [
    {
     "name": "stdout",
     "output_type": "stream",
     "text": [
      "Bagging Classifier Accuracy: 0.885\n"
     ]
    }
   ],
   "source": [
    "from sklearn.ensemble import BaggingRegressor, BaggingClassifier, RandomForestClassifier, RandomForestRegressor, StackingClassifier\n",
    "from sklearn.tree import DecisionTreeRegressor, DecisionTreeClassifier\n",
    "from sklearn.svm import SVC\n",
    "from sklearn.linear_model import LogisticRegression\n",
    "from sklearn.datasets import make_regression, make_classification, load_breast_cancer\n",
    "from sklearn.model_selection import train_test_split, GridSearchCV, cross_val_score\n",
    "from sklearn.metrics import mean_squared_error, accuracy_score, precision_recall_fscore_support, roc_auc_score, confusion_matrix, precision_recall_curve\n",
    "import pandas as pd\n",
    "import numpy as np\n",
    "import matplotlib.pyplot as plt\n",
    "import seaborn as sns\n",
    "\n",
    "# Generate synthetic data for classification and regression\n",
    "X_cls, y_cls = make_classification(n_samples=1000, n_features=10, random_state=42)\n",
    "X_reg, y_reg = make_regression(n_samples=1000, n_features=5, noise=0.1, random_state=42)\n",
    "X_train_cls, X_test_cls, y_train_cls, y_test_cls = train_test_split(X_cls, y_cls, test_size=0.2, random_state=42)\n",
    "X_train_reg, X_test_reg, y_train_reg, y_test_reg = train_test_split(X_reg, y_reg, test_size=0.2, random_state=42)\n",
    "\n",
    "# 1. Train a Bagging Classifier using Decision Trees\n",
    "bagging_clf = BaggingClassifier(estimator=DecisionTreeClassifier(), n_estimators=10, random_state=42)\n",
    "bagging_clf.fit(X_train_cls, y_train_cls)\n",
    "predictions = bagging_clf.predict(X_test_cls)\n",
    "print(\"Bagging Classifier Accuracy:\", accuracy_score(y_test_cls, predictions))\n",
    "\n"
   ]
  },
  {
   "cell_type": "code",
   "execution_count": 5,
   "id": "ee4f5597-d9c7-4601-beea-4d407dd68ef6",
   "metadata": {},
   "outputs": [
    {
     "name": "stdout",
     "output_type": "stream",
     "text": [
      "Bagging Regressor MSE: 352.90146531571503\n"
     ]
    }
   ],
   "source": [
    "# 2. Train a Bagging Regressor using Decision Trees\n",
    "bagging_reg = BaggingRegressor(estimator=DecisionTreeRegressor(), n_estimators=10, random_state=42)\n",
    "bagging_reg.fit(X_train_reg, y_train_reg)\n",
    "reg_predictions = bagging_reg.predict(X_test_reg)\n",
    "print(\"Bagging Regressor MSE:\", mean_squared_error(y_test_reg, reg_predictions))\n"
   ]
  },
  {
   "cell_type": "code",
   "execution_count": 6,
   "id": "aa76abe1-c813-4fb0-b62e-ac622a37a517",
   "metadata": {},
   "outputs": [
    {
     "name": "stdout",
     "output_type": "stream",
     "text": [
      "Feature Importances: [0.04870337 0.01359088 0.05326975 0.04755501 0.00728533 0.01394433\n",
      " 0.06800084 0.10620999 0.00377029 0.00388577 0.02013892 0.00472399\n",
      " 0.01130301 0.02240696 0.00427091 0.00525322 0.00938583 0.00351326\n",
      " 0.00401842 0.00532146 0.07798688 0.02174901 0.06711483 0.15389236\n",
      " 0.01064421 0.02026604 0.0318016  0.14466327 0.01012018 0.00521012]\n"
     ]
    }
   ],
   "source": [
    "# 3. Train a Random Forest Classifier on Breast Cancer dataset\n",
    "breast_cancer = load_breast_cancer()\n",
    "X_train_bc, X_test_bc, y_train_bc, y_test_bc = train_test_split(breast_cancer.data, breast_cancer.target, test_size=0.2, random_state=42)\n",
    "rf_clf = RandomForestClassifier(n_estimators=100, random_state=42)\n",
    "rf_clf.fit(X_train_bc, y_train_bc)\n",
    "print(\"Feature Importances:\", rf_clf.feature_importances_)\n",
    "\n"
   ]
  },
  {
   "cell_type": "code",
   "execution_count": 7,
   "id": "f3125d62-7a1c-42a9-be38-2270c94682af",
   "metadata": {},
   "outputs": [
    {
     "name": "stdout",
     "output_type": "stream",
     "text": [
      "Decision Tree MSE: 1225.3445311046783\n",
      "Random Forest MSE: 283.1874552460186\n"
     ]
    }
   ],
   "source": [
    "# 4. Train a Random Forest Regressor and compare with Decision Tree\n",
    "dt_reg = DecisionTreeRegressor(random_state=42)\n",
    "dt_reg.fit(X_train_reg, y_train_reg)\n",
    "dt_mse = mean_squared_error(y_test_reg, dt_reg.predict(X_test_reg))\n",
    "rf_reg = RandomForestRegressor(n_estimators=100, random_state=42)\n",
    "rf_reg.fit(X_train_reg, y_train_reg)\n",
    "rf_mse = mean_squared_error(y_test_reg, rf_reg.predict(X_test_reg))\n",
    "print(\"Decision Tree MSE:\", dt_mse)\n",
    "print(\"Random Forest MSE:\", rf_mse)\n",
    "\n"
   ]
  },
  {
   "cell_type": "code",
   "execution_count": 8,
   "id": "6c999b73-92f8-4f64-8524-72acb0bf2a00",
   "metadata": {},
   "outputs": [
    {
     "name": "stdout",
     "output_type": "stream",
     "text": [
      "OOB Score: 0.90625\n"
     ]
    }
   ],
   "source": [
    "# 5. Compute OOB Score for a Random Forest Classifier\n",
    "rf_oob = RandomForestClassifier(n_estimators=100, oob_score=True, random_state=42)\n",
    "rf_oob.fit(X_train_cls, y_train_cls)\n",
    "print(\"OOB Score:\", rf_oob.oob_score_)\n",
    "\n"
   ]
  },
  {
   "cell_type": "code",
   "execution_count": 9,
   "id": "6a8ee6f3-8806-4fa0-9b9f-7163d7456f23",
   "metadata": {},
   "outputs": [
    {
     "name": "stdout",
     "output_type": "stream",
     "text": [
      "Bagging SVM Accuracy: 0.825\n"
     ]
    }
   ],
   "source": [
    "# 6. Train a Bagging Classifier using SVM\n",
    "bagging_svm = BaggingClassifier(estimator=SVC(), n_estimators=10, random_state=42)\n",
    "bagging_svm.fit(X_train_cls, y_train_cls)\n",
    "print(\"Bagging SVM Accuracy:\", accuracy_score(y_test_cls, bagging_svm.predict(X_test_cls)))"
   ]
  },
  {
   "cell_type": "code",
   "execution_count": 10,
   "id": "09338230-4cc0-4cb4-a678-2849960ea255",
   "metadata": {},
   "outputs": [
    {
     "name": "stdout",
     "output_type": "stream",
     "text": [
      "Random Forest (10 trees) Accuracy: 0.865\n",
      "Random Forest (50 trees) Accuracy: 0.885\n",
      "Random Forest (100 trees) Accuracy: 0.88\n",
      "Random Forest (200 trees) Accuracy: 0.88\n"
     ]
    }
   ],
   "source": [
    "# 7. Train Random Forest Classifier with different tree numbers\n",
    "n_estimators = [10, 50, 100, 200]\n",
    "for n in n_estimators:\n",
    "    rf_temp = RandomForestClassifier(n_estimators=n, random_state=42)\n",
    "    rf_temp.fit(X_train_cls, y_train_cls)\n",
    "    print(f\"Random Forest ({n} trees) Accuracy:\", accuracy_score(y_test_cls, rf_temp.predict(X_test_cls)))"
   ]
  },
  {
   "cell_type": "code",
   "execution_count": 11,
   "id": "c9dfee8c-c004-4c9f-9f51-dba603e1230c",
   "metadata": {},
   "outputs": [
    {
     "name": "stdout",
     "output_type": "stream",
     "text": [
      "Bagging Logistic Regression AUC: 0.911529507035125\n"
     ]
    }
   ],
   "source": [
    "# 8. Train a Bagging Classifier using Logistic Regression and print AUC score\n",
    "bagging_lr = BaggingClassifier(estimator=LogisticRegression(), n_estimators=10, random_state=42)\n",
    "bagging_lr.fit(X_train_cls, y_train_cls)\n",
    "print(\"Bagging Logistic Regression AUC:\", roc_auc_score(y_test_cls, bagging_lr.predict_proba(X_test_cls)[:,1]))"
   ]
  },
  {
   "cell_type": "code",
   "execution_count": 12,
   "id": "048e2e36-ed54-4b38-bb59-6c6f335215f5",
   "metadata": {},
   "outputs": [
    {
     "name": "stdout",
     "output_type": "stream",
     "text": [
      "Stacking Classifier Accuracy: 0.87\n"
     ]
    }
   ],
   "source": [
    "# 9. Train a Stacking Classifier\n",
    "stacking_clf = StackingClassifier(estimators=[('dt', DecisionTreeClassifier()), ('svm', SVC(probability=True)), ('lr', LogisticRegression())], final_estimator=LogisticRegression())\n",
    "stacking_clf.fit(X_train_cls, y_train_cls)\n",
    "print(\"Stacking Classifier Accuracy:\", accuracy_score(y_test_cls, stacking_clf.predict(X_test_cls)))\n",
    "\n"
   ]
  },
  {
   "cell_type": "code",
   "execution_count": 13,
   "id": "4f160122-0e3c-4ee4-ba0f-8a6ef6553b32",
   "metadata": {},
   "outputs": [
    {
     "data": {
      "image/png": "[encoded data removed]",
      "text/plain": [
       "<Figure size 640x480 with 2 Axes>"
      ]
     },
     "metadata": {},
     "output_type": "display_data"
    }
   ],
   "source": [
    "# 10. Train Random Forest and visualize Confusion Matrix\n",
    "rf_conf = RandomForestClassifier(n_estimators=100, random_state=42)\n",
    "rf_conf.fit(X_train_cls, y_train_cls)\n",
    "y_pred_conf = rf_conf.predict(X_test_cls)\n",
    "cm = confusion_matrix(y_test_cls, y_pred_conf)\n",
    "sns.heatmap(cm, annot=True, fmt='d', cmap='Blues')\n",
    "plt.xlabel(\"Predicted\")\n",
    "plt.ylabel(\"Actual\")\n",
    "plt.title(\"Random Forest Confusion Matrix\")\n",
    "plt.show()\n",
    "\n"
   ]
  },
  {
   "cell_type": "code",
   "execution_count": 14,
   "id": "6382d5a1-a414-4ed7-92c1-42c2d469a0dc",
   "metadata": {},
   "outputs": [
    {
     "data": {
      "image/png": "[encoded data removed]",
      "text/plain": [
       "<Figure size 640x480 with 1 Axes>"
      ]
     },
     "metadata": {},
     "output_type": "display_data"
    }
   ],
   "source": [
    "# 11. Train a Random Forest Classifier and plot Precision-Recall Curve\n",
    "precision, recall, _ = precision_recall_curve(y_test_cls, rf_conf.predict_proba(X_test_cls)[:,1])\n",
    "plt.plot(recall, precision, marker='.')\n",
    "plt.xlabel(\"Recall\")\n",
    "plt.ylabel(\"Precision\")\n",
    "plt.title(\"Precision-Recall Curve for Random Forest\")\n",
    "plt.show()\n"
   ]
  },
  {
   "cell_type": "code",
   "execution_count": 15,
   "id": "bf6f3c61-661a-4f25-8476-458b70073176",
   "metadata": {},
   "outputs": [],
   "source": [
    "########Practical Answers ###############"
   ]
  },
  {
   "cell_type": "code",
   "execution_count": null,
   "id": "dab33803-746a-483f-975d-07baaca36679",
   "metadata": {},
   "outputs": [],
   "source": []
  },
  {
   "cell_type": "code",
   "execution_count": 17,
   "id": "16846f27-25b4-4791-838b-65982af2dd23",
   "metadata": {},
   "outputs": [
    {
     "name": "stdout",
     "output_type": "stream",
     "text": [
      "Bagging Classifier Accuracy: 0.956140350877193\n"
     ]
    }
   ],
   "source": [
    "import numpy as np\n",
    "import pandas as pd\n",
    "import matplotlib.pyplot as plt\n",
    "import seaborn as sns\n",
    "from sklearn.model_selection import train_test_split, cross_val_score, GridSearchCV\n",
    "from sklearn.metrics import accuracy_score, mean_squared_error, classification_report, confusion_matrix, roc_auc_score, precision_recall_curve, precision_score, recall_score, f1_score\n",
    "from sklearn.ensemble import BaggingClassifier, BaggingRegressor, RandomForestClassifier, RandomForestRegressor, StackingClassifier\n",
    "from sklearn.tree import DecisionTreeClassifier, DecisionTreeRegressor\n",
    "from sklearn.svm import SVC\n",
    "from sklearn.linear_model import LogisticRegression\n",
    "from sklearn.neighbors import KNeighborsRegressor\n",
    "from sklearn.datasets import load_breast_cancer\n",
    "\n",
    "# Load Breast Cancer Dataset\n",
    "data = load_breast_cancer()\n",
    "X, y = data.data, data.target\n",
    "X_train, X_test, y_train, y_test = train_test_split(X, y, test_size=0.2, random_state=42)\n",
    "\n",
    "# 1. Train a Bagging Classifier using Decision Trees\n",
    "bagging_clf = BaggingClassifier(estimator=DecisionTreeClassifier(), n_estimators=10, random_state=42)\n",
    "bagging_clf.fit(X_train, y_train)\n",
    "y_pred = bagging_clf.predict(X_test)\n",
    "print(\"Bagging Classifier Accuracy:\", accuracy_score(y_test, y_pred))\n"
   ]
  },
  {
   "cell_type": "code",
   "execution_count": 20,
   "id": "20899e09-24b9-4ec8-b361-429c845b0a6f",
   "metadata": {},
   "outputs": [
    {
     "name": "stdout",
     "output_type": "stream",
     "text": [
      "Bagging Regressor MSE: 0.08611535033584576\n"
     ]
    }
   ],
   "source": [
    "# 2. Train a Bagging Regressor using Decision Trees\n",
    "X_reg = np.random.rand(100, 5)\n",
    "y_reg = np.random.rand(100)\n",
    "X_train_reg, X_test_reg, y_train_reg, y_test_reg = train_test_split(X_reg, y_reg, test_size=0.2, random_state=42)\n",
    "bagging_reg = BaggingRegressor(estimator=DecisionTreeRegressor(), n_estimators=10, random_state=42)\n",
    "bagging_reg.fit(X_train_reg, y_train_reg)\n",
    "y_pred_reg = bagging_reg.predict(X_test_reg)\n",
    "print(\"Bagging Regressor MSE:\", mean_squared_error(y_test_reg, y_pred_reg))"
   ]
  },
  {
   "cell_type": "code",
   "execution_count": 21,
   "id": "93aca9d9-282c-4728-97c6-060a82301355",
   "metadata": {},
   "outputs": [
    {
     "name": "stdout",
     "output_type": "stream",
     "text": [
      "Feature Importances: [0.04870337 0.01359088 0.05326975 0.04755501 0.00728533 0.01394433\n",
      " 0.06800084 0.10620999 0.00377029 0.00388577 0.02013892 0.00472399\n",
      " 0.01130301 0.02240696 0.00427091 0.00525322 0.00938583 0.00351326\n",
      " 0.00401842 0.00532146 0.07798688 0.02174901 0.06711483 0.15389236\n",
      " 0.01064421 0.02026604 0.0318016  0.14466327 0.01012018 0.00521012]\n"
     ]
    }
   ],
   "source": [
    "# 3. Train a Random Forest Classifier and print feature importance\n",
    "rf_clf = RandomForestClassifier(n_estimators=100, random_state=42)\n",
    "rf_clf.fit(X_train, y_train)\n",
    "print(\"Feature Importances:\", rf_clf.feature_importances_)"
   ]
  },
  {
   "cell_type": "code",
   "execution_count": 22,
   "id": "529bada1-80cb-40fa-b151-ecd3c62e172a",
   "metadata": {},
   "outputs": [
    {
     "name": "stdout",
     "output_type": "stream",
     "text": [
      "Random Forest MSE: 0.07755802048284646\n",
      "Decision Tree MSE: 0.11952152936083316\n"
     ]
    }
   ],
   "source": [
    "# 4. Train a Random Forest Regressor and compare with Decision Tree\n",
    "rf_reg = RandomForestRegressor(n_estimators=100, random_state=42)\n",
    "dt_reg = DecisionTreeRegressor(random_state=42)\n",
    "rf_reg.fit(X_train_reg, y_train_reg)\n",
    "dt_reg.fit(X_train_reg, y_train_reg)\n",
    "y_pred_rf = rf_reg.predict(X_test_reg)\n",
    "y_pred_dt = dt_reg.predict(X_test_reg)\n",
    "print(\"Random Forest MSE:\", mean_squared_error(y_test_reg, y_pred_rf))\n",
    "print(\"Decision Tree MSE:\", mean_squared_error(y_test_reg, y_pred_dt))\n"
   ]
  },
  {
   "cell_type": "code",
   "execution_count": 23,
   "id": "f1e9c840-cdb8-4337-a5ad-1f6f3becc00d",
   "metadata": {},
   "outputs": [
    {
     "name": "stdout",
     "output_type": "stream",
     "text": [
      "OOB Score: 0.9560439560439561\n"
     ]
    }
   ],
   "source": [
    "# 5. Compute the Out-of-Bag (OOB) Score for a Random Forest Classifier\n",
    "oob_clf = RandomForestClassifier(n_estimators=100, oob_score=True, random_state=42)\n",
    "oob_clf.fit(X_train, y_train)\n",
    "print(\"OOB Score:\", oob_clf.oob_score_)\n",
    "\n"
   ]
  },
  {
   "cell_type": "code",
   "execution_count": 24,
   "id": "9af9904a-212b-4c3a-89e9-e870cd702118",
   "metadata": {},
   "outputs": [
    {
     "name": "stdout",
     "output_type": "stream",
     "text": [
      "Bagging SVM Accuracy: 0.9473684210526315\n"
     ]
    }
   ],
   "source": [
    "# 6. Train a Bagging Classifier using SVM as base estimator\n",
    "bagging_svm = BaggingClassifier(estimator=SVC(), n_estimators=10, random_state=42)\n",
    "bagging_svm.fit(X_train, y_train)\n",
    "y_pred_svm = bagging_svm.predict(X_test)\n",
    "print(\"Bagging SVM Accuracy:\", accuracy_score(y_test, y_pred_svm))\n"
   ]
  },
  {
   "cell_type": "code",
   "execution_count": 25,
   "id": "ccf2ef4e-c0b9-4281-b170-27ddd32c9b67",
   "metadata": {},
   "outputs": [
    {
     "name": "stdout",
     "output_type": "stream",
     "text": [
      "Random Forest (10 trees) Accuracy: 0.956140350877193\n",
      "Random Forest (50 trees) Accuracy: 0.9649122807017544\n",
      "Random Forest (100 trees) Accuracy: 0.9649122807017544\n",
      "Random Forest (200 trees) Accuracy: 0.9649122807017544\n"
     ]
    }
   ],
   "source": [
    "# 7. Train a Random Forest Classifier with different numbers of trees and compare accuracy\n",
    "n_estimators_list = [10, 50, 100, 200]\n",
    "for n in n_estimators_list:\n",
    "    rf_temp = RandomForestClassifier(n_estimators=n, random_state=42)\n",
    "    rf_temp.fit(X_train, y_train)\n",
    "    y_pred_temp = rf_temp.predict(X_test)\n",
    "    print(f\"Random Forest ({n} trees) Accuracy:\", accuracy_score(y_test, y_pred_temp))\n"
   ]
  },
  {
   "cell_type": "code",
   "execution_count": 26,
   "id": "c85729da-4d13-4c04-91e4-0e7ee788d9ea",
   "metadata": {},
   "outputs": [
    {
     "name": "stdout",
     "output_type": "stream",
     "text": [
      "Bagging Logistic Regression AUC Score: 0.9980347199475925\n"
     ]
    },
    {
     "name": "stderr",
     "output_type": "stream",
     "text": [
      "/opt/homebrew/Cellar/jupyterlab/4.3.5/libexec/lib/python3.13/site-packages/sklearn/linear_model/_logistic.py:465: ConvergenceWarning: lbfgs failed to converge (status=1):\n",
      "STOP: TOTAL NO. OF ITERATIONS REACHED LIMIT.\n",
      "\n",
      "Increase the number of iterations (max_iter) or scale the data as shown in:\n",
      "    https://scikit-learn.org/stable/modules/preprocessing.html\n",
      "Please also refer to the documentation for alternative solver options:\n",
      "    https://scikit-learn.org/stable/modules/linear_model.html#logistic-regression\n",
      "  n_iter_i = _check_optimize_result(\n",
      "/opt/homebrew/Cellar/jupyterlab/4.3.5/libexec/lib/python3.13/site-packages/sklearn/linear_model/_logistic.py:465: ConvergenceWarning: lbfgs failed to converge (status=1):\n",
      "STOP: TOTAL NO. OF ITERATIONS REACHED LIMIT.\n",
      "\n",
      "Increase the number of iterations (max_iter) or scale the data as shown in:\n",
      "    https://scikit-learn.org/stable/modules/preprocessing.html\n",
      "Please also refer to the documentation for alternative solver options:\n",
      "    https://scikit-learn.org/stable/modules/linear_model.html#logistic-regression\n",
      "  n_iter_i = _check_optimize_result(\n",
      "/opt/homebrew/Cellar/jupyterlab/4.3.5/libexec/lib/python3.13/site-packages/sklearn/linear_model/_logistic.py:465: ConvergenceWarning: lbfgs failed to converge (status=1):\n",
      "STOP: TOTAL NO. OF ITERATIONS REACHED LIMIT.\n",
      "\n",
      "Increase the number of iterations (max_iter) or scale the data as shown in:\n",
      "    https://scikit-learn.org/stable/modules/preprocessing.html\n",
      "Please also refer to the documentation for alternative solver options:\n",
      "    https://scikit-learn.org/stable/modules/linear_model.html#logistic-regression\n",
      "  n_iter_i = _check_optimize_result(\n",
      "/opt/homebrew/Cellar/jupyterlab/4.3.5/libexec/lib/python3.13/site-packages/sklearn/linear_model/_logistic.py:465: ConvergenceWarning: lbfgs failed to converge (status=1):\n",
      "STOP: TOTAL NO. OF ITERATIONS REACHED LIMIT.\n",
      "\n",
      "Increase the number of iterations (max_iter) or scale the data as shown in:\n",
      "    https://scikit-learn.org/stable/modules/preprocessing.html\n",
      "Please also refer to the documentation for alternative solver options:\n",
      "    https://scikit-learn.org/stable/modules/linear_model.html#logistic-regression\n",
      "  n_iter_i = _check_optimize_result(\n",
      "/opt/homebrew/Cellar/jupyterlab/4.3.5/libexec/lib/python3.13/site-packages/sklearn/linear_model/_logistic.py:465: ConvergenceWarning: lbfgs failed to converge (status=1):\n",
      "STOP: TOTAL NO. OF ITERATIONS REACHED LIMIT.\n",
      "\n",
      "Increase the number of iterations (max_iter) or scale the data as shown in:\n",
      "    https://scikit-learn.org/stable/modules/preprocessing.html\n",
      "Please also refer to the documentation for alternative solver options:\n",
      "    https://scikit-learn.org/stable/modules/linear_model.html#logistic-regression\n",
      "  n_iter_i = _check_optimize_result(\n",
      "/opt/homebrew/Cellar/jupyterlab/4.3.5/libexec/lib/python3.13/site-packages/sklearn/linear_model/_logistic.py:465: ConvergenceWarning: lbfgs failed to converge (status=1):\n",
      "STOP: TOTAL NO. OF ITERATIONS REACHED LIMIT.\n",
      "\n",
      "Increase the number of iterations (max_iter) or scale the data as shown in:\n",
      "    https://scikit-learn.org/stable/modules/preprocessing.html\n",
      "Please also refer to the documentation for alternative solver options:\n",
      "    https://scikit-learn.org/stable/modules/linear_model.html#logistic-regression\n",
      "  n_iter_i = _check_optimize_result(\n",
      "/opt/homebrew/Cellar/jupyterlab/4.3.5/libexec/lib/python3.13/site-packages/sklearn/linear_model/_logistic.py:465: ConvergenceWarning: lbfgs failed to converge (status=1):\n",
      "STOP: TOTAL NO. OF ITERATIONS REACHED LIMIT.\n",
      "\n",
      "Increase the number of iterations (max_iter) or scale the data as shown in:\n",
      "    https://scikit-learn.org/stable/modules/preprocessing.html\n",
      "Please also refer to the documentation for alternative solver options:\n",
      "    https://scikit-learn.org/stable/modules/linear_model.html#logistic-regression\n",
      "  n_iter_i = _check_optimize_result(\n",
      "/opt/homebrew/Cellar/jupyterlab/4.3.5/libexec/lib/python3.13/site-packages/sklearn/linear_model/_logistic.py:465: ConvergenceWarning: lbfgs failed to converge (status=1):\n",
      "STOP: TOTAL NO. OF ITERATIONS REACHED LIMIT.\n",
      "\n",
      "Increase the number of iterations (max_iter) or scale the data as shown in:\n",
      "    https://scikit-learn.org/stable/modules/preprocessing.html\n",
      "Please also refer to the documentation for alternative solver options:\n",
      "    https://scikit-learn.org/stable/modules/linear_model.html#logistic-regression\n",
      "  n_iter_i = _check_optimize_result(\n",
      "/opt/homebrew/Cellar/jupyterlab/4.3.5/libexec/lib/python3.13/site-packages/sklearn/linear_model/_logistic.py:465: ConvergenceWarning: lbfgs failed to converge (status=1):\n",
      "STOP: TOTAL NO. OF ITERATIONS REACHED LIMIT.\n",
      "\n",
      "Increase the number of iterations (max_iter) or scale the data as shown in:\n",
      "    https://scikit-learn.org/stable/modules/preprocessing.html\n",
      "Please also refer to the documentation for alternative solver options:\n",
      "    https://scikit-learn.org/stable/modules/linear_model.html#logistic-regression\n",
      "  n_iter_i = _check_optimize_result(\n",
      "/opt/homebrew/Cellar/jupyterlab/4.3.5/libexec/lib/python3.13/site-packages/sklearn/linear_model/_logistic.py:465: ConvergenceWarning: lbfgs failed to converge (status=1):\n",
      "STOP: TOTAL NO. OF ITERATIONS REACHED LIMIT.\n",
      "\n",
      "Increase the number of iterations (max_iter) or scale the data as shown in:\n",
      "    https://scikit-learn.org/stable/modules/preprocessing.html\n",
      "Please also refer to the documentation for alternative solver options:\n",
      "    https://scikit-learn.org/stable/modules/linear_model.html#logistic-regression\n",
      "  n_iter_i = _check_optimize_result(\n"
     ]
    }
   ],
   "source": [
    "# 8. Train a Bagging Classifier using Logistic Regression as base estimator and print AUC score\n",
    "bagging_logreg = BaggingClassifier(estimator=LogisticRegression(), n_estimators=10, random_state=42)\n",
    "bagging_logreg.fit(X_train, y_train)\n",
    "y_pred_prob = bagging_logreg.predict_proba(X_test)[:, 1]\n",
    "print(\"Bagging Logistic Regression AUC Score:\", roc_auc_score(y_test, y_pred_prob))\n"
   ]
  },
  {
   "cell_type": "code",
   "execution_count": null,
   "id": "6ccff7fa-1c41-44c6-a1fb-40c6a4213e6f",
   "metadata": {},
   "outputs": [],
   "source": [
    "# 9. Train a Random Forest Classifier and analyze the effect of max_depth on accuracy\n",
    "max_depth_list = [5, 10, 20, None]\n",
    "for depth in max_depth_list:\n",
    "    rf_depth = RandomForestClassifier(n_estimators=100, max_depth=depth, random_state=42)\n",
    "    rf_depth.fit(X_train, y_train)\n",
    "    y_pred_depth = rf_depth.predict(X_test)\n",
    "    print(f\"Random Forest (max_depth={depth}) Accuracy:\", accuracy_score(y_test, y_pred_depth))\n"
   ]
  }
 ],
 "metadata": {
  "kernelspec": {
   "display_name": "Python 3 (ipykernel)",
   "language": "python",
   "name": "python3"
  },
  "language_info": {
   "codemirror_mode": {
    "name": "ipython",
    "version": 3
   },
   "file_extension": ".py",
   "mimetype": "text/x-python",
   "name": "python",
   "nbconvert_exporter": "python",
   "pygments_lexer": "ipython3",
   "version": "3.13.1"
  }
 },
 "nbformat": 4,
 "nbformat_minor": 5
}
